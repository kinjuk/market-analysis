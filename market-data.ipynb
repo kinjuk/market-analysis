import yfinance as yf
import pandas as pd
import matplotlib.pyplot as plt

# Set up tickers for the Mag 7
tickers = ["AAPL", "MSFT", "GOOGL", "AMZN", "META", "NVDA", "TSLA"]

# Download adjusted closing prices from Jan 2020 to today
mag7_data = yf.download(tickers, start="2020-01-01")["Adj Close"]

# Preview data
mag7_data.tail()
